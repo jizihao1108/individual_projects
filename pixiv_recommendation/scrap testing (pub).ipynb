{
 "cells": [
  {
   "cell_type": "code",
   "execution_count": 10,
   "metadata": {
    "collapsed": true,
    "deletable": true,
    "editable": true
   },
   "outputs": [],
   "source": [
    "import urllib.request as urllib2\n",
    "import bs4\n",
    "from selenium import webdriver\n",
    "from selenium.webdriver.common.keys import Keys\n",
    "import time"
   ]
  },
  {
   "cell_type": "code",
   "execution_count": 29,
   "metadata": {
    "collapsed": true,
    "deletable": true,
    "editable": true
   },
   "outputs": [],
   "source": [
    "# Open Chrome and go to the pixiv home page\n",
    "chrome_path = \"D:\\web developer\\chromedriver\\chromedriver.exe\"\n",
    "driver = webdriver.Chrome(chrome_path)\n",
    "driver.get('http://www.pixiv.net')\n",
    "time.sleep(10)\n",
    "\n",
    "# click on the sign in button\n",
    "driver.find_element_by_xpath('''//*[@id=\"wrapper\"]/div[2]/div[2]/a[2]''').click()\n",
    "time.sleep(1)\n",
    "\n",
    "# Fill in the account information \n",
    "username = driver.find_element_by_xpath('''//*[@id=\"LoginComponent\"]/span/form/div[1]/div[1]/input''')\n",
    "password = driver.find_element_by_xpath('''//*[@id=\"LoginComponent\"]/span/form/div[1]/div[2]/input''')\n",
    "\n",
    "un = 'xxxxxxxxxxxx' # Your username here\n",
    "pw = 'xxxxxxxxx' # Your password here\n",
    "\n",
    "username.send_keys(un) \n",
    "password.send_keys(pw)\n",
    "time.sleep(2)\n",
    "\n",
    "# click log in button\n",
    "login_attempt = driver.find_element_by_xpath('''//*[@id=\"LoginComponent\"]/span/form/button''')\n",
    "login_attempt.submit()\n",
    "time.sleep(1)\n",
    "\n",
    "# navigate to daily ranking page\n",
    "daily_ranking = driver.find_element_by_xpath('''//*[@id=\"column-misc\"]/section[3]/h1/a''')\n",
    "daily_ranking.click()\n",
    "time.sleep(5)\n",
    "\n",
    "# Scroll the daily ranking page twice\n",
    "for i in range(2):\n",
    "    driver.execute_script(\"window.scrollTo(0, document.body.scrollHeight);\")\n",
    "    time.sleep(5)"
   ]
  }
 ],
 "metadata": {
  "kernelspec": {
   "display_name": "Python 3",
   "language": "python",
   "name": "python3"
  },
  "language_info": {
   "codemirror_mode": {
    "name": "ipython",
    "version": 3
   },
   "file_extension": ".py",
   "mimetype": "text/x-python",
   "name": "python",
   "nbconvert_exporter": "python",
   "pygments_lexer": "ipython3",
   "version": "3.6.0"
  }
 },
 "nbformat": 4,
 "nbformat_minor": 2
}
